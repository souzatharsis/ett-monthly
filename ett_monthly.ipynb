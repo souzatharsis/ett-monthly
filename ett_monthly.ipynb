{
 "cells": [
  {
   "cell_type": "code",
   "execution_count": 2,
   "id": "visible-miniature",
   "metadata": {},
   "outputs": [],
   "source": [
    "import pandas as pd\n",
    "from pyETT import ett"
   ]
  },
  {
   "cell_type": "code",
   "execution_count": 3,
   "id": "sharp-civilian",
   "metadata": {},
   "outputs": [],
   "source": [
    "ids = [3831, 234850, 11002]\n",
    "monthly_elo_threshold = 2000\n",
    "start_date = '2021-06-01'\n",
    "end_date = '2021-06-30'"
   ]
  },
  {
   "cell_type": "code",
   "execution_count": 4,
   "id": "golden-engineer",
   "metadata": {},
   "outputs": [],
   "source": [
    "from functools import reduce\n",
    "\n",
    "players = [ett.Player(p_id) for p_id in ids]\n",
    "\n",
    "players_elo = [p.get_elo_history().rename(columns={\"elo\":(p.name+\" (\"+str(p.id)+\")\")}) for p in\n",
    "               players if p.get_elo_history() is not None]\n",
    "\n",
    "group_elo_df = reduce(lambda df1,df2: pd.merge(df1,df2,how='outer', left_index=True, right_index=True),\n",
    "                      players_elo).ffill(axis = 0)"
   ]
  },
  {
   "cell_type": "code",
   "execution_count": 5,
   "id": "neither-product",
   "metadata": {},
   "outputs": [],
   "source": [
    "monthly_stats = group_elo_df.loc[(group_elo_df.index >= start_date)  & (group_elo_df.index <= end_date)].describe().filter(like='m', axis=0).transpose()\n",
    "monthly_stats['direct_entry'] = monthly_stats['max'] > monthly_elo_threshold\n",
    "monthly_stats['can_qualify'] = monthly_stats['min'] <= monthly_elo_threshold"
   ]
  },
  {
   "cell_type": "code",
   "execution_count": 6,
   "id": "spread-china",
   "metadata": {},
   "outputs": [
    {
     "data": {
      "text/html": [
       "<div>\n",
       "<style scoped>\n",
       "    .dataframe tbody tr th:only-of-type {\n",
       "        vertical-align: middle;\n",
       "    }\n",
       "\n",
       "    .dataframe tbody tr th {\n",
       "        vertical-align: top;\n",
       "    }\n",
       "\n",
       "    .dataframe thead th {\n",
       "        text-align: right;\n",
       "    }\n",
       "</style>\n",
       "<table border=\"1\" class=\"dataframe\">\n",
       "  <thead>\n",
       "    <tr style=\"text-align: right;\">\n",
       "      <th></th>\n",
       "      <th>mean</th>\n",
       "      <th>min</th>\n",
       "      <th>max</th>\n",
       "      <th>direct_entry</th>\n",
       "      <th>can_qualify</th>\n",
       "      <th>id</th>\n",
       "    </tr>\n",
       "  </thead>\n",
       "  <tbody>\n",
       "    <tr>\n",
       "      <th>alexttbcn (3831)</th>\n",
       "      <td>2,965.2</td>\n",
       "      <td>2,921.0</td>\n",
       "      <td>2,984.0</td>\n",
       "      <td>True</td>\n",
       "      <td>False</td>\n",
       "      <td>3831</td>\n",
       "    </tr>\n",
       "    <tr>\n",
       "      <th>lapoctopus90 (234850)</th>\n",
       "      <td>3,054.9</td>\n",
       "      <td>2,971.0</td>\n",
       "      <td>3,102.1</td>\n",
       "      <td>True</td>\n",
       "      <td>False</td>\n",
       "      <td>234850</td>\n",
       "    </tr>\n",
       "    <tr>\n",
       "      <th>twISTer1979 (11002)</th>\n",
       "      <td>2,998.3</td>\n",
       "      <td>2,964.0</td>\n",
       "      <td>3,039.0</td>\n",
       "      <td>True</td>\n",
       "      <td>False</td>\n",
       "      <td>11002</td>\n",
       "    </tr>\n",
       "  </tbody>\n",
       "</table>\n",
       "</div>"
      ],
      "text/plain": [
       "                         mean     min     max  direct_entry  can_qualify  \\\n",
       "alexttbcn (3831)      2,965.2 2,921.0 2,984.0          True        False   \n",
       "lapoctopus90 (234850) 3,054.9 2,971.0 3,102.1          True        False   \n",
       "twISTer1979 (11002)   2,998.3 2,964.0 3,039.0          True        False   \n",
       "\n",
       "                           id  \n",
       "alexttbcn (3831)         3831  \n",
       "lapoctopus90 (234850)  234850  \n",
       "twISTer1979 (11002)     11002  "
      ]
     },
     "execution_count": 6,
     "metadata": {},
     "output_type": "execute_result"
    }
   ],
   "source": [
    "pd.options.display.float_format = '{:,.1f}'.format\n",
    "monthly_stats['id'] = ids\n",
    "monthly_stats"
   ]
  },
  {
   "cell_type": "code",
   "execution_count": null,
   "id": "authentic-cartoon",
   "metadata": {},
   "outputs": [],
   "source": []
  }
 ],
 "metadata": {
  "kernelspec": {
   "display_name": "Python 3",
   "language": "python",
   "name": "python3"
  },
  "language_info": {
   "codemirror_mode": {
    "name": "ipython",
    "version": 3
   },
   "file_extension": ".py",
   "mimetype": "text/x-python",
   "name": "python",
   "nbconvert_exporter": "python",
   "pygments_lexer": "ipython3",
   "version": "3.8.5"
  }
 },
 "nbformat": 4,
 "nbformat_minor": 5
}
